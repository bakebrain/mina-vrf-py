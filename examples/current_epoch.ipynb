{
 "cells": [
  {
   "cell_type": "code",
   "execution_count": 1,
   "id": "8ff8b803",
   "metadata": {},
   "outputs": [],
   "source": [
    "%matplotlib inline\n",
    "%load_ext blackcellmagic\n",
    "%load_ext autoreload\n",
    "%autoreload 2"
   ]
  },
  {
   "cell_type": "code",
   "execution_count": 5,
   "id": "61d997ca",
   "metadata": {},
   "outputs": [],
   "source": [
    "import pickle\n",
    "import seaborn as sns\n",
    "import matplotlib.pyplot as plt\n",
    "\n",
    "from scipy.stats import binom\n",
    "import pandas as pd\n",
    "import numpy as np\n",
    "\n",
    "from minavrfpy import lib"
   ]
  },
  {
   "cell_type": "markdown",
   "id": "f1e3d196",
   "metadata": {},
   "source": [
    "## single epoch"
   ]
  },
  {
   "cell_type": "code",
   "execution_count": 6,
   "id": "54d2da3f",
   "metadata": {},
   "outputs": [],
   "source": [
    "epoch = 20\n",
    "bp_key = \"B62qob1tGxx1BhychEzzah7yvdbRH3E7SNSTrEtkuSZzR2UBezMChg2\"\n",
    "\n",
    "results = lib.get_epoch_df(epoch, block_producer_key=bp_key)\n",
    "\n",
    "df = results['df']\n",
    "stakes_df = results['stakes_df']"
   ]
  },
  {
   "cell_type": "markdown",
   "id": "f7f45cde",
   "metadata": {},
   "source": [
    "## data quick look"
   ]
  },
  {
   "cell_type": "code",
   "execution_count": 7,
   "id": "069a62ec",
   "metadata": {},
   "outputs": [
    {
     "data": {
      "text/plain": [
       "dict_keys(['df', 'total_time', 'stakes_df', 'winner_df', 'my_winner_df', 'epoch_data'])"
      ]
     },
     "execution_count": 7,
     "metadata": {},
     "output_type": "execute_result"
    }
   ],
   "source": [
    "results.keys()"
   ]
  },
  {
   "cell_type": "code",
   "execution_count": 8,
   "id": "073a2d89",
   "metadata": {},
   "outputs": [
    {
     "data": {
      "text/html": [
       "<div>\n",
       "<style scoped>\n",
       "    .dataframe tbody tr th:only-of-type {\n",
       "        vertical-align: middle;\n",
       "    }\n",
       "\n",
       "    .dataframe tbody tr th {\n",
       "        vertical-align: top;\n",
       "    }\n",
       "\n",
       "    .dataframe thead th {\n",
       "        text-align: right;\n",
       "    }\n",
       "</style>\n",
       "<table border=\"1\" class=\"dataframe\">\n",
       "  <thead>\n",
       "    <tr style=\"text-align: right;\">\n",
       "      <th></th>\n",
       "      <th>epoch</th>\n",
       "      <th>slot</th>\n",
       "      <th>global_slot</th>\n",
       "      <th>block</th>\n",
       "      <th>winner_exists</th>\n",
       "      <th>saw_my_producer</th>\n",
       "      <th>bp_won</th>\n",
       "      <th>block_time</th>\n",
       "      <th>received_time</th>\n",
       "      <th>winner_pk</th>\n",
       "      <th>super_charged</th>\n",
       "      <th>block_height_equal</th>\n",
       "      <th>too_late</th>\n",
       "      <th>min_bt</th>\n",
       "      <th>min_bt_minutes</th>\n",
       "      <th>outcome</th>\n",
       "      <th>next_block_in</th>\n",
       "    </tr>\n",
       "  </thead>\n",
       "  <tbody>\n",
       "    <tr>\n",
       "      <th>0</th>\n",
       "      <td>20</td>\n",
       "      <td>141</td>\n",
       "      <td>142941</td>\n",
       "      <td>97983</td>\n",
       "      <td>True</td>\n",
       "      <td>True</td>\n",
       "      <td>True</td>\n",
       "      <td>[0 days 00:02:23.710000]</td>\n",
       "      <td>2022-01-08 19:05:23.710000+00:00</td>\n",
       "      <td>B62qnSdNzb8icjWPiSsxgKfB1RvD47wLf9aYfVRd3HYTk5...</td>\n",
       "      <td>False</td>\n",
       "      <td>True</td>\n",
       "      <td>False</td>\n",
       "      <td>0 days 00:02:23.710000</td>\n",
       "      <td>2.383333</td>\n",
       "      <td>WON</td>\n",
       "      <td>NaT</td>\n",
       "    </tr>\n",
       "    <tr>\n",
       "      <th>1</th>\n",
       "      <td>20</td>\n",
       "      <td>1214</td>\n",
       "      <td>144014</td>\n",
       "      <td>98482</td>\n",
       "      <td>True</td>\n",
       "      <td>True</td>\n",
       "      <td>True</td>\n",
       "      <td>[0 days 00:02:11.143000]</td>\n",
       "      <td>2022-01-11 00:44:11.143000+00:00</td>\n",
       "      <td>B62qnSdNzb8icjWPiSsxgKfB1RvD47wLf9aYfVRd3HYTk5...</td>\n",
       "      <td>False</td>\n",
       "      <td>True</td>\n",
       "      <td>False</td>\n",
       "      <td>0 days 00:02:11.143000</td>\n",
       "      <td>2.183333</td>\n",
       "      <td>WON</td>\n",
       "      <td>NaT</td>\n",
       "    </tr>\n",
       "    <tr>\n",
       "      <th>2</th>\n",
       "      <td>20</td>\n",
       "      <td>1722</td>\n",
       "      <td>144522</td>\n",
       "      <td>98805</td>\n",
       "      <td>True</td>\n",
       "      <td>True</td>\n",
       "      <td>True</td>\n",
       "      <td>[0 days 00:02:05.452000]</td>\n",
       "      <td>2022-01-12 02:08:05.452000+00:00</td>\n",
       "      <td>B62qnSdNzb8icjWPiSsxgKfB1RvD47wLf9aYfVRd3HYTk5...</td>\n",
       "      <td>False</td>\n",
       "      <td>True</td>\n",
       "      <td>False</td>\n",
       "      <td>0 days 00:02:05.452000</td>\n",
       "      <td>2.083333</td>\n",
       "      <td>WON</td>\n",
       "      <td>NaT</td>\n",
       "    </tr>\n",
       "    <tr>\n",
       "      <th>3</th>\n",
       "      <td>20</td>\n",
       "      <td>1739</td>\n",
       "      <td>144539</td>\n",
       "      <td>98817</td>\n",
       "      <td>True</td>\n",
       "      <td>True</td>\n",
       "      <td>True</td>\n",
       "      <td>[0 days 00:02:07.573000]</td>\n",
       "      <td>2022-01-12 02:59:07.573000+00:00</td>\n",
       "      <td>B62qm4TntJySX6ktHD1SsYumBdvSTp8pLdjMwTVjBrmA3i...</td>\n",
       "      <td>False</td>\n",
       "      <td>True</td>\n",
       "      <td>False</td>\n",
       "      <td>0 days 00:02:07.573000</td>\n",
       "      <td>2.116667</td>\n",
       "      <td>WON</td>\n",
       "      <td>NaT</td>\n",
       "    </tr>\n",
       "    <tr>\n",
       "      <th>4</th>\n",
       "      <td>20</td>\n",
       "      <td>2047</td>\n",
       "      <td>144847</td>\n",
       "      <td>99044</td>\n",
       "      <td>True</td>\n",
       "      <td>True</td>\n",
       "      <td>False</td>\n",
       "      <td>[0 days 00:03:25.124000]</td>\n",
       "      <td>2022-01-12 18:36:36.576000+00:00</td>\n",
       "      <td>B62qm4TntJySX6ktHD1SsYumBdvSTp8pLdjMwTVjBrmA3i...</td>\n",
       "      <td>False</td>\n",
       "      <td>True</td>\n",
       "      <td>True</td>\n",
       "      <td>0 days 00:03:25.124000</td>\n",
       "      <td>3.416667</td>\n",
       "      <td>LOST</td>\n",
       "      <td>NaT</td>\n",
       "    </tr>\n",
       "  </tbody>\n",
       "</table>\n",
       "</div>"
      ],
      "text/plain": [
       "   epoch  slot  global_slot  block  winner_exists  saw_my_producer  bp_won  \\\n",
       "0     20   141       142941  97983           True             True    True   \n",
       "1     20  1214       144014  98482           True             True    True   \n",
       "2     20  1722       144522  98805           True             True    True   \n",
       "3     20  1739       144539  98817           True             True    True   \n",
       "4     20  2047       144847  99044           True             True   False   \n",
       "\n",
       "                 block_time                    received_time  \\\n",
       "0  [0 days 00:02:23.710000] 2022-01-08 19:05:23.710000+00:00   \n",
       "1  [0 days 00:02:11.143000] 2022-01-11 00:44:11.143000+00:00   \n",
       "2  [0 days 00:02:05.452000] 2022-01-12 02:08:05.452000+00:00   \n",
       "3  [0 days 00:02:07.573000] 2022-01-12 02:59:07.573000+00:00   \n",
       "4  [0 days 00:03:25.124000] 2022-01-12 18:36:36.576000+00:00   \n",
       "\n",
       "                                           winner_pk  super_charged  \\\n",
       "0  B62qnSdNzb8icjWPiSsxgKfB1RvD47wLf9aYfVRd3HYTk5...          False   \n",
       "1  B62qnSdNzb8icjWPiSsxgKfB1RvD47wLf9aYfVRd3HYTk5...          False   \n",
       "2  B62qnSdNzb8icjWPiSsxgKfB1RvD47wLf9aYfVRd3HYTk5...          False   \n",
       "3  B62qm4TntJySX6ktHD1SsYumBdvSTp8pLdjMwTVjBrmA3i...          False   \n",
       "4  B62qm4TntJySX6ktHD1SsYumBdvSTp8pLdjMwTVjBrmA3i...          False   \n",
       "\n",
       "   block_height_equal  too_late                 min_bt  min_bt_minutes  \\\n",
       "0                True     False 0 days 00:02:23.710000        2.383333   \n",
       "1                True     False 0 days 00:02:11.143000        2.183333   \n",
       "2                True     False 0 days 00:02:05.452000        2.083333   \n",
       "3                True     False 0 days 00:02:07.573000        2.116667   \n",
       "4                True      True 0 days 00:03:25.124000        3.416667   \n",
       "\n",
       "  outcome next_block_in  \n",
       "0     WON           NaT  \n",
       "1     WON           NaT  \n",
       "2     WON           NaT  \n",
       "3     WON           NaT  \n",
       "4    LOST           NaT  "
      ]
     },
     "execution_count": 8,
     "metadata": {},
     "output_type": "execute_result"
    }
   ],
   "source": [
    "df.head()"
   ]
  },
  {
   "cell_type": "code",
   "execution_count": 9,
   "id": "20cf1025",
   "metadata": {},
   "outputs": [
    {
     "data": {
      "text/plain": [
       "(28, 17)"
      ]
     },
     "execution_count": 9,
     "metadata": {},
     "output_type": "execute_result"
    }
   ],
   "source": [
    "df.shape"
   ]
  },
  {
   "cell_type": "code",
   "execution_count": 10,
   "id": "1ca5487c",
   "metadata": {},
   "outputs": [
    {
     "data": {
      "text/html": [
       "<div>\n",
       "<style scoped>\n",
       "    .dataframe tbody tr th:only-of-type {\n",
       "        vertical-align: middle;\n",
       "    }\n",
       "\n",
       "    .dataframe tbody tr th {\n",
       "        vertical-align: top;\n",
       "    }\n",
       "\n",
       "    .dataframe thead th {\n",
       "        text-align: right;\n",
       "    }\n",
       "</style>\n",
       "<table border=\"1\" class=\"dataframe\">\n",
       "  <thead>\n",
       "    <tr style=\"text-align: right;\">\n",
       "      <th></th>\n",
       "      <th>balance</th>\n",
       "      <th>public_key</th>\n",
       "      <th>timing_timed_weighting</th>\n",
       "      <th>timing</th>\n",
       "    </tr>\n",
       "  </thead>\n",
       "  <tbody>\n",
       "    <tr>\n",
       "      <th>0</th>\n",
       "      <td>1.287163e+06</td>\n",
       "      <td>B62qm4TntJySX6ktHD1SsYumBdvSTp8pLdjMwTVjBrmA3i...</td>\n",
       "      <td>0.0</td>\n",
       "      <td>NaN</td>\n",
       "    </tr>\n",
       "    <tr>\n",
       "      <th>1</th>\n",
       "      <td>9.646882e+05</td>\n",
       "      <td>B62qnSdNzb8icjWPiSsxgKfB1RvD47wLf9aYfVRd3HYTk5...</td>\n",
       "      <td>0.0</td>\n",
       "      <td>NaN</td>\n",
       "    </tr>\n",
       "    <tr>\n",
       "      <th>2</th>\n",
       "      <td>8.904433e+05</td>\n",
       "      <td>B62qk9RQQsLpE1i1CJjkN6SuoRefXg5X17kqvvZV2UMysW...</td>\n",
       "      <td>0.0</td>\n",
       "      <td>NaN</td>\n",
       "    </tr>\n",
       "    <tr>\n",
       "      <th>3</th>\n",
       "      <td>6.445618e+05</td>\n",
       "      <td>B62qjxgReuj5FKdrMw3i7d9A4yjwTvu8mr9roy9f6AUAt1...</td>\n",
       "      <td>0.0</td>\n",
       "      <td>NaN</td>\n",
       "    </tr>\n",
       "    <tr>\n",
       "      <th>4</th>\n",
       "      <td>6.600000e+04</td>\n",
       "      <td>B62qjVX9MmfxajW5kBPjQgkTcs32MJHtydXfVdtCs1qk28...</td>\n",
       "      <td>0.0</td>\n",
       "      <td>NaN</td>\n",
       "    </tr>\n",
       "  </tbody>\n",
       "</table>\n",
       "</div>"
      ],
      "text/plain": [
       "        balance                                         public_key  \\\n",
       "0  1.287163e+06  B62qm4TntJySX6ktHD1SsYumBdvSTp8pLdjMwTVjBrmA3i...   \n",
       "1  9.646882e+05  B62qnSdNzb8icjWPiSsxgKfB1RvD47wLf9aYfVRd3HYTk5...   \n",
       "2  8.904433e+05  B62qk9RQQsLpE1i1CJjkN6SuoRefXg5X17kqvvZV2UMysW...   \n",
       "3  6.445618e+05  B62qjxgReuj5FKdrMw3i7d9A4yjwTvu8mr9roy9f6AUAt1...   \n",
       "4  6.600000e+04  B62qjVX9MmfxajW5kBPjQgkTcs32MJHtydXfVdtCs1qk28...   \n",
       "\n",
       "   timing_timed_weighting  timing  \n",
       "0                     0.0     NaN  \n",
       "1                     0.0     NaN  \n",
       "2                     0.0     NaN  \n",
       "3                     0.0     NaN  \n",
       "4                     0.0     NaN  "
      ]
     },
     "execution_count": 10,
     "metadata": {},
     "output_type": "execute_result"
    }
   ],
   "source": [
    "stakes_df.head()"
   ]
  },
  {
   "cell_type": "code",
   "execution_count": 11,
   "id": "9bea33fd",
   "metadata": {},
   "outputs": [
    {
     "data": {
      "text/plain": [
       "B62qm4TntJySX6ktHD1SsYumBdvSTp8pLdjMwTVjBrmA3ipkWejBdbe    10\n",
       "B62qnSdNzb8icjWPiSsxgKfB1RvD47wLf9aYfVRd3HYTk519fhG8RUK     9\n",
       "B62qk9RQQsLpE1i1CJjkN6SuoRefXg5X17kqvvZV2UMysW4hr9CCoFw     6\n",
       "B62qjxgReuj5FKdrMw3i7d9A4yjwTvu8mr9roy9f6AUAt1orHEArLhC     3\n",
       "Name: winner_pk, dtype: int64"
      ]
     },
     "execution_count": 11,
     "metadata": {},
     "output_type": "execute_result"
    }
   ],
   "source": [
    "df.winner_pk.value_counts()"
   ]
  },
  {
   "cell_type": "code",
   "execution_count": 12,
   "id": "4cd3ed83",
   "metadata": {},
   "outputs": [
    {
     "data": {
      "text/html": [
       "<div>\n",
       "<style scoped>\n",
       "    .dataframe tbody tr th:only-of-type {\n",
       "        vertical-align: middle;\n",
       "    }\n",
       "\n",
       "    .dataframe tbody tr th {\n",
       "        vertical-align: top;\n",
       "    }\n",
       "\n",
       "    .dataframe thead th {\n",
       "        text-align: right;\n",
       "    }\n",
       "</style>\n",
       "<table border=\"1\" class=\"dataframe\">\n",
       "  <thead>\n",
       "    <tr style=\"text-align: right;\">\n",
       "      <th></th>\n",
       "      <th>winner_pk</th>\n",
       "      <th>super_charged</th>\n",
       "      <th>next_block_in</th>\n",
       "    </tr>\n",
       "  </thead>\n",
       "  <tbody>\n",
       "    <tr>\n",
       "      <th>26</th>\n",
       "      <td>B62qm4TntJySX6ktHD1SsYumBdvSTp8pLdjMwTVjBrmA3i...</td>\n",
       "      <td>False</td>\n",
       "      <td>1 days 06:45:00</td>\n",
       "    </tr>\n",
       "    <tr>\n",
       "      <th>27</th>\n",
       "      <td>B62qm4TntJySX6ktHD1SsYumBdvSTp8pLdjMwTVjBrmA3i...</td>\n",
       "      <td>False</td>\n",
       "      <td>1 days 08:51:00</td>\n",
       "    </tr>\n",
       "  </tbody>\n",
       "</table>\n",
       "</div>"
      ],
      "text/plain": [
       "                                            winner_pk  super_charged  \\\n",
       "26  B62qm4TntJySX6ktHD1SsYumBdvSTp8pLdjMwTVjBrmA3i...          False   \n",
       "27  B62qm4TntJySX6ktHD1SsYumBdvSTp8pLdjMwTVjBrmA3i...          False   \n",
       "\n",
       "     next_block_in  \n",
       "26 1 days 06:45:00  \n",
       "27 1 days 08:51:00  "
      ]
     },
     "execution_count": 12,
     "metadata": {},
     "output_type": "execute_result"
    }
   ],
   "source": [
    "df[df.outcome == 'FUTURE'][['winner_pk', 'super_charged', 'next_block_in']]"
   ]
  },
  {
   "cell_type": "code",
   "execution_count": null,
   "id": "50086e9d",
   "metadata": {},
   "outputs": [],
   "source": []
  },
  {
   "cell_type": "markdown",
   "id": "a925542b",
   "metadata": {},
   "source": [
    "## outcome per epoch"
   ]
  },
  {
   "cell_type": "code",
   "execution_count": 13,
   "id": "58a5ba86",
   "metadata": {},
   "outputs": [
    {
     "data": {
      "text/plain": [
       "<AxesSubplot:xlabel='epoch', ylabel='outcome_count'>"
      ]
     },
     "execution_count": 13,
     "metadata": {},
     "output_type": "execute_result"
    },
    {
     "data": {
      "image/png": "[encoded data removed]",
      "text/plain": [
       "<Figure size 576x360 with 1 Axes>"
      ]
     },
     "metadata": {},
     "output_type": "display_data"
    }
   ],
   "source": [
    "sns.set(rc={\"figure.figsize\": (8, 5)})\n",
    "\n",
    "\n",
    "counts_df = (\n",
    "    df.groupby(\"epoch\")\n",
    "    .outcome.value_counts()\n",
    "    .to_frame()\n",
    "    .rename(columns={\"outcome\": \"outcome_count\"})\n",
    "    .reset_index()\n",
    ")\n",
    "\n",
    "sns.barplot(x=\"epoch\", y=\"outcome_count\", data=counts_df, hue=\"outcome\")"
   ]
  },
  {
   "cell_type": "code",
   "execution_count": null,
   "id": "91b054a0",
   "metadata": {},
   "outputs": [],
   "source": []
  },
  {
   "cell_type": "markdown",
   "id": "e9813d2d",
   "metadata": {},
   "source": [
    "## outcome grouped by super_charged"
   ]
  },
  {
   "cell_type": "code",
   "execution_count": 14,
   "id": "c91da8fe",
   "metadata": {},
   "outputs": [
    {
     "data": {
      "text/plain": [
       "epoch  super_charged  outcome        \n",
       "20     False          WON                13\n",
       "                      LOST               11\n",
       "                      FUTURE              2\n",
       "                      MISSED_TOO_LATE     2\n",
       "Name: outcome, dtype: int64"
      ]
     },
     "execution_count": 14,
     "metadata": {},
     "output_type": "execute_result"
    }
   ],
   "source": [
    "df.groupby([\"epoch\", \"super_charged\"]).outcome.value_counts()"
   ]
  },
  {
   "cell_type": "code",
   "execution_count": null,
   "id": "5babe6c5",
   "metadata": {},
   "outputs": [],
   "source": []
  },
  {
   "cell_type": "code",
   "execution_count": null,
   "id": "d6d5965f",
   "metadata": {},
   "outputs": [],
   "source": []
  },
  {
   "cell_type": "markdown",
   "id": "ed2b008b",
   "metadata": {},
   "source": [
    "## slot luck - example of a super unlucky epoch\n",
    "try to visualize \"slot luck\""
   ]
  },
  {
   "cell_type": "code",
   "execution_count": 17,
   "id": "83f7b677",
   "metadata": {
    "scrolled": false
   },
   "outputs": [
    {
     "name": "stdout",
     "output_type": "stream",
     "text": [
      "epoch 20 - expected 43 slots - got 28... \n"
     ]
    },
    {
     "data": {
      "image/png": "[encoded data removed]",
      "text/plain": [
       "<Figure size 720x720 with 1 Axes>"
      ]
     },
     "metadata": {},
     "output_type": "display_data"
    },
    {
     "data": {
      "text/plain": [
       "<Figure size 576x360 with 0 Axes>"
      ]
     },
     "metadata": {},
     "output_type": "display_data"
    }
   ],
   "source": [
    "fig, ax = plt.subplots(1, 1, figsize=(10, 10))\n",
    "\n",
    "SLOTS_PER_EPOCH = 7140\n",
    "\n",
    "def get_slot_win_perc(stake, total_currency):\n",
    "    return (1 - ((1 / 4) ** (stake / total_currency)))\n",
    "\n",
    "\n",
    "epoch_data = []\n",
    "\n",
    "total_currency = results['epoch_data']['total_currency']\n",
    "total_staking_balance = results['stakes_df'].balance.sum()\n",
    "\n",
    "slot_win_pct = get_slot_win_perc(\n",
    "    total_staking_balance, total_currency\n",
    ")    \n",
    "expected_blocks_value = slot_win_pct * SLOTS_PER_EPOCH \n",
    "\n",
    "won_blocks = df[(df.epoch == epoch) & (df.outcome == 'WON')].block.count()\n",
    "slots_won = df[(df.epoch == epoch)].slot.nunique()\n",
    "\n",
    "data = binom.rvs(n=SLOTS_PER_EPOCH, p=slot_win_pct, size=100000)\n",
    "\n",
    "k = np.arange(int(expected_blocks_value - 50), int(expected_blocks_value) + 50, 1)\n",
    "\n",
    "plt.figure(epoch)\n",
    "\n",
    "sns.histplot(data, kde=True, bins=k, ax=ax)\n",
    "ax.axvline(df[(df.epoch == epoch)].block.nunique(), 0, 1, color=\"r\")\n",
    "ax.set_title(f\"epoch {epoch}\")\n",
    "\n",
    "epoch_data.append({\n",
    "    'epoch': epoch,\n",
    "    'expected_slots': expected_blocks_value,\n",
    "    'expected_slots_binom': binom(SLOTS_PER_EPOCH, slot_win_pct).expect(),\n",
    "    'slot_win_pct': slot_win_pct,\n",
    "    'won_slots': slots_won,\n",
    "    'won_blocks': won_blocks,\n",
    "    'orphan_rate': 1 - (won_blocks/slots_won)\n",
    "})\n",
    "\n",
    "print(f\"epoch {epoch} - expected {round(expected_blocks_value)} slots - got {slots_won}... \")\n",
    "\n",
    "\n",
    "plt.show()"
   ]
  },
  {
   "cell_type": "code",
   "execution_count": 18,
   "id": "a7570509",
   "metadata": {},
   "outputs": [
    {
     "data": {
      "text/html": [
       "<div>\n",
       "<style scoped>\n",
       "    .dataframe tbody tr th:only-of-type {\n",
       "        vertical-align: middle;\n",
       "    }\n",
       "\n",
       "    .dataframe tbody tr th {\n",
       "        vertical-align: top;\n",
       "    }\n",
       "\n",
       "    .dataframe thead th {\n",
       "        text-align: right;\n",
       "    }\n",
       "</style>\n",
       "<table border=\"1\" class=\"dataframe\">\n",
       "  <thead>\n",
       "    <tr style=\"text-align: right;\">\n",
       "      <th></th>\n",
       "      <th>epoch</th>\n",
       "      <th>expected_slots</th>\n",
       "      <th>expected_slots_binom</th>\n",
       "      <th>slot_win_pct</th>\n",
       "      <th>won_slots</th>\n",
       "      <th>won_blocks</th>\n",
       "      <th>orphan_rate</th>\n",
       "      <th>cdf</th>\n",
       "    </tr>\n",
       "  </thead>\n",
       "  <tbody>\n",
       "    <tr>\n",
       "      <th>0</th>\n",
       "      <td>20</td>\n",
       "      <td>43.360313</td>\n",
       "      <td>43.360313</td>\n",
       "      <td>0.006073</td>\n",
       "      <td>28</td>\n",
       "      <td>13</td>\n",
       "      <td>0.535714</td>\n",
       "      <td>0.008468</td>\n",
       "    </tr>\n",
       "  </tbody>\n",
       "</table>\n",
       "</div>"
      ],
      "text/plain": [
       "   epoch  expected_slots  expected_slots_binom  slot_win_pct  won_slots  \\\n",
       "0     20       43.360313             43.360313      0.006073         28   \n",
       "\n",
       "   won_blocks  orphan_rate       cdf  \n",
       "0          13     0.535714  0.008468  "
      ]
     },
     "execution_count": 18,
     "metadata": {},
     "output_type": "execute_result"
    }
   ],
   "source": [
    "# this us SUPER unlucky\n",
    "\n",
    "epoch_slots_df = pd.DataFrame(epoch_data)\n",
    "\n",
    "epoch_slots_df[\"cdf\"] = epoch_slots_df.apply(\n",
    "    lambda row: binom.cdf(row[\"won_slots\"], SLOTS_PER_EPOCH, row[\"slot_win_pct\"]),\n",
    "    axis=1,\n",
    ")\n",
    "epoch_slots_df"
   ]
  },
  {
   "cell_type": "code",
   "execution_count": null,
   "id": "f3fc2c62",
   "metadata": {},
   "outputs": [],
   "source": []
  }
 ],
 "metadata": {
  "kernelspec": {
   "display_name": "Python 3 (ipykernel)",
   "language": "python",
   "name": "python3"
  },
  "language_info": {
   "codemirror_mode": {
    "name": "ipython",
    "version": 3
   },
   "file_extension": ".py",
   "mimetype": "text/x-python",
   "name": "python",
   "nbconvert_exporter": "python",
   "pygments_lexer": "ipython3",
   "version": "3.9.7"
  }
 },
 "nbformat": 4,
 "nbformat_minor": 5
}
